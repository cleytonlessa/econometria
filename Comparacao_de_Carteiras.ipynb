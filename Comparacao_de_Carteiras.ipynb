{
  "nbformat": 4,
  "nbformat_minor": 0,
  "metadata": {
    "colab": {
      "provenance": [],
      "collapsed_sections": [],
      "authorship_tag": "ABX9TyMrwiySSQdi2lUL2vWbHpi1",
      "include_colab_link": true
    },
    "kernelspec": {
      "name": "python3",
      "display_name": "Python 3"
    },
    "language_info": {
      "name": "python"
    }
  },
  "cells": [
    {
      "cell_type": "markdown",
      "metadata": {
        "id": "view-in-github",
        "colab_type": "text"
      },
      "source": [
        "<a href=\"https://colab.research.google.com/github/cleytonlessa/econometria/blob/main/Comparacao_de_Carteiras.ipynb\" target=\"_parent\"><img src=\"https://colab.research.google.com/assets/colab-badge.svg\" alt=\"Open In Colab\"/></a>"
      ]
    },
    {
      "cell_type": "code",
      "execution_count": null,
      "metadata": {
        "id": "0vxO3Wg8rtxi"
      },
      "outputs": [],
      "source": [
        "!pip install yfinance"
      ]
    },
    {
      "cell_type": "code",
      "source": [
        "import yfinance as yf\n",
        "import pandas as pd\n",
        "import numpy as np\n",
        "import nbconvert\n",
        "from functools import reduce"
      ],
      "metadata": {
        "id": "udU4JhAHr-kG"
      },
      "execution_count": null,
      "outputs": []
    },
    {
      "cell_type": "code",
      "source": [
        "ativos01 = ['ITUB4.SA','VALE3.SA', 'MGLU3.SA','PETR4.SA', \n",
        "          'BBDC4.SA', 'B3SA3.SA','ABEV3.SA','BPAC11.SA',\n",
        "          'BBAS3.SA','CSAN3.SA','RENT3.SA', 'LREN3.SA']\n",
        "inicio = '2020-01-05'\n",
        "fim = '2021-12-05'\n",
        "precos = yf.download(ativos01, start = inicio, end = fim)['Adj Close']\n",
        "precos.head()"
      ],
      "metadata": {
        "id": "wa0enNtssAO2"
      },
      "execution_count": null,
      "outputs": []
    },
    {
      "cell_type": "code",
      "source": [
        "compras = {'ITUB4.SA': 1200, 'VALE3.SA': 1200, 'MGLU3.SA': 1000,\n",
        "           'PETR4.SA': 1000, 'BBDC4.SA': 1000, 'B3SA3.SA': 900, \n",
        "           'ABEV3.SA': 800, 'BPAC11.SA': 700, 'BBAS3.SA': 600, \n",
        "           'CSAN3.SA': 600, 'RENT3.SA': 500, 'LREN3.SA':500}\n",
        "           \n",
        "compras_df = pd.Series(data=compras, index=list(compras.keys()))\n",
        "sum(compras.values())\n",
        "precos.iloc[0]\n",
        "PL01 = precos*compras_df/(precos.iloc[0])\n",
        "PL01['Carteira 01'] = PL01.sum(axis = 1)\n",
        "PL01.tail()"
      ],
      "metadata": {
        "id": "b5jva2zfsT5R"
      },
      "execution_count": null,
      "outputs": []
    },
    {
      "cell_type": "code",
      "source": [
        "ibov = yf.download('^BVSP', start = inicio, end = fim)\n",
        "ibov.rename(columns = {'Adj Close': 'IBOV'}, inplace = True)\n",
        "ibov = ibov.drop(ibov.columns[[0,1,2,3,5]], axis = 1)"
      ],
      "metadata": {
        "colab": {
          "base_uri": "https://localhost:8080/"
        },
        "id": "BHHzjphZsjbP",
        "outputId": "2bce6eee-f7b1-4aa5-f881-010b516aa247"
      },
      "execution_count": null,
      "outputs": [
        {
          "output_type": "stream",
          "name": "stdout",
          "text": [
            "\r[*********************100%***********************]  1 of 1 completed\n"
          ]
        }
      ]
    },
    {
      "cell_type": "code",
      "source": [
        "ativos02 = ['BPAN4.SA','VALE3.SA', 'WEGE3.SA','TOTS3.SA', 'BPAC11.SA',\n",
        "            'KNRI11.SA','SMAL11.SA','AAPL34.SA','IVVB11.SA', 'TSLA34.SA']\n",
        "\n",
        "precos02 = yf.download(ativos02, start = inicio, end = fim)['Adj Close']\n",
        "\n",
        "compras02 = {'BPAN4.SA': 1500, 'VALE3.SA': 1400, 'WEGE3.SA': 1300, \n",
        "           'TOTS3.SA': 1200, 'BPAC11.SA': 1100, 'KNRI11.SA': 1000, \n",
        "        'SMAL11.SA': 800, 'AAPL34.SA': 700, 'IVVB11.SA': 500, 'TSLA34.SA': 500}\n",
        "           \n",
        "compras_df02 = pd.Series(data=compras02, index=list(compras02.keys()))\n",
        "\n",
        "PL02 = precos02*(compras_df02/(precos02.iloc[0]))\n",
        "\n",
        "PL02['Carteira 02'] = PL02.sum(axis = 1)\n",
        "\n",
        "precos02.head()\n",
        "sum(compras02.values())\n",
        "PL02.head()"
      ],
      "metadata": {
        "id": "2rnmuUkgsnry"
      },
      "execution_count": null,
      "outputs": []
    },
    {
      "cell_type": "code",
      "source": [
        "ativos03 = ['IVVB11.SA','GOGL34.SA', 'COCA34.SA','MSFT34.SA', 'WEGE3.SA',\n",
        "            'VALE3.SA','PETR4.SA', 'SUZB3.SA', 'JBSS3.SA']\n",
        "\n",
        "precos03 = yf.download(ativos03, start = inicio, end = fim)['Adj Close']\n",
        "\n",
        "compras03 = {'IVVB11.SA': 1500, 'GOGL34.SA': 1500, 'COCA34.SA': 1000, \n",
        "           'MSFT34.SA': 1000, 'WEGE3.SA': 1000, 'VALE3.SA': 1000, \n",
        "           'PETR4.SA': 1000, 'SUZB3.SA': 1000, 'JBSS3.SA':1000}\n",
        "           \n",
        "compras_df03 = pd.Series(data=compras03, index=list(compras03.keys()))\n",
        "\n",
        "PL03 = precos03*(compras_df03/(precos03.iloc[0]))\n",
        "\n",
        "PL03['Carteira 03'] = PL03.sum(axis = 1)\n",
        "\n",
        "PL03.head()"
      ],
      "metadata": {
        "id": "Py99bzIFs7k1"
      },
      "execution_count": null,
      "outputs": []
    },
    {
      "cell_type": "code",
      "source": [
        "from functools import reduce\n",
        "\n",
        "dfs = [PL01, PL02, PL03, ibov]\n",
        "\n",
        "df_final = reduce(lambda left,right: pd.merge(left,right,on='Date'), dfs)\n",
        "df_final.head()\n",
        "df_final_normalizado = df_final/df_final.iloc[0]"
      ],
      "metadata": {
        "id": "-EvnR7KEtAtC"
      },
      "execution_count": null,
      "outputs": []
    },
    {
      "cell_type": "code",
      "source": [
        "import matplotlib.pyplot as plt\n",
        "\n",
        "df_final_normalizado['Date'] = df_final_normalizado.index\n",
        "\n",
        "df_final_normalizado.plot(x = 'Date', y = ['IBOV', 'Carteira 01', 'Carteira 02', 'Carteira 03'], kind = 'line', figsize= (10,10))\n",
        "\n",
        "plt.text(0.8, 1, 'Trading com Dados', transform=ax.transAxes,\n",
        "        fontsize=60, color='gray', alpha=0.2,\n",
        "        ha='center', va='center', rotation='30')\n",
        "\n",
        "plt.show()"
      ],
      "metadata": {
        "id": "gnV9j6J1tJh-"
      },
      "execution_count": null,
      "outputs": []
    }
  ]
}