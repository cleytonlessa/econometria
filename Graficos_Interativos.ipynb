{
  "nbformat": 4,
  "nbformat_minor": 0,
  "metadata": {
    "colab": {
      "provenance": [],
      "collapsed_sections": [],
      "authorship_tag": "ABX9TyNUXXh7zqHxrMHK7eL9BFCr",
      "include_colab_link": true
    },
    "kernelspec": {
      "name": "python3",
      "display_name": "Python 3"
    },
    "language_info": {
      "name": "python"
    }
  },
  "cells": [
    {
      "cell_type": "markdown",
      "metadata": {
        "id": "view-in-github",
        "colab_type": "text"
      },
      "source": [
        "<a href=\"https://colab.research.google.com/github/cleytonlessa/econometria/blob/main/Graficos_Interativos.ipynb\" target=\"_parent\"><img src=\"https://colab.research.google.com/assets/colab-badge.svg\" alt=\"Open In Colab\"/></a>"
      ]
    },
    {
      "cell_type": "code",
      "execution_count": null,
      "metadata": {
        "id": "ZcNPWSQROjbF"
      },
      "outputs": [],
      "source": [
        "pip install plotly"
      ]
    },
    {
      "cell_type": "code",
      "source": [
        "pip install wbgapi"
      ],
      "metadata": {
        "id": "mK7u3kHiO8l6"
      },
      "execution_count": null,
      "outputs": []
    },
    {
      "cell_type": "markdown",
      "source": [
        "Importando Bibliotecas"
      ],
      "metadata": {
        "id": "ozLyVyMpPCHi"
      }
    },
    {
      "cell_type": "code",
      "source": [
        "import pandas as pd\n",
        "import numpy as np\n",
        "import plotly.express as px\n",
        "import wbgapi as wb"
      ],
      "metadata": {
        "id": "4Ra9An7KPEww"
      },
      "execution_count": null,
      "outputs": []
    },
    {
      "cell_type": "markdown",
      "source": [
        "Explorando wbgapi"
      ],
      "metadata": {
        "id": "abcG3O4jPR_P"
      }
    },
    {
      "cell_type": "code",
      "source": [
        "#wb.source - Databases\n",
        "#wb.series() - Indicadores\n",
        "#wb.economy() - Países\n",
        "#wb.time() - Temporalidade disponível\n",
        "#wb.region - Regiões do Banco Mundial\n",
        "\n",
        "#FUNÇÕES\n",
        "\n",
        "#list - lista de elementos\n",
        "#get - retorna único elemento\n",
        "#info - tabela de informações\n",
        "#series - retorna um pandas series"
      ],
      "metadata": {
        "id": "2d1gZDIAPUsp"
      },
      "execution_count": null,
      "outputs": []
    },
    {
      "cell_type": "markdown",
      "source": [
        "Desemprego"
      ],
      "metadata": {
        "id": "MtKIu0BwSr1Q"
      }
    },
    {
      "cell_type": "code",
      "source": [
        "#Banco de dados\n",
        "\n",
        "desemprego = wb.data.DataFrame('SL.UEM.TOTL.ZS', economy=['BRA','ARG','MEX'], time=range(2010,2021))\n",
        "desemprego"
      ],
      "metadata": {
        "id": "Ay0AIDw6QD_Q"
      },
      "execution_count": null,
      "outputs": []
    },
    {
      "cell_type": "code",
      "source": [
        "lista_paises = np.array([desemprego.index])\n",
        "lista_paises"
      ],
      "metadata": {
        "id": "ZaKsX1oSTnKj"
      },
      "execution_count": null,
      "outputs": []
    },
    {
      "cell_type": "code",
      "source": [
        "desemprego = desemprego.melt(var_name='Ano', value_name='Desemprego')\n",
        "desemprego"
      ],
      "metadata": {
        "id": "LYJuqbgKTZ-Q"
      },
      "execution_count": null,
      "outputs": []
    },
    {
      "cell_type": "code",
      "source": [
        "desemprego['País'] = np.resize(lista_paises, len(desemprego))\n",
        "desemprego"
      ],
      "metadata": {
        "id": "i8qszDyLT7wx"
      },
      "execution_count": null,
      "outputs": []
    },
    {
      "cell_type": "code",
      "source": [
        "desemprego['Ano'] = pd.to_numeric(desemprego['Ano'].str.slice(2))\n",
        "desemprego"
      ],
      "metadata": {
        "id": "I-F8AXydUQuG"
      },
      "execution_count": null,
      "outputs": []
    },
    {
      "cell_type": "code",
      "source": [
        "#Gráfico de Barras Animado\n",
        "\n",
        "fig = px.bar(\n",
        "    desemprego,\n",
        "    x='País',\n",
        "    y=['Desemprego'],\n",
        "    color='País',\n",
        "    animation_frame='Ano',\n",
        "    animation_group='País',\n",
        "    range_y=[0,14],\n",
        "    title='Desemprego America Latina 2010 - 2020',\n",
        "    template='plotly_dark'\n",
        ")\n",
        "fig.show()"
      ],
      "metadata": {
        "id": "xOoyD7V-UfFx"
      },
      "execution_count": null,
      "outputs": []
    }
  ]
}