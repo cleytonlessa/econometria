{
  "nbformat": 4,
  "nbformat_minor": 0,
  "metadata": {
    "colab": {
      "provenance": [],
      "collapsed_sections": [],
      "authorship_tag": "ABX9TyN1eR5MPeOo3ib76DENkhTX",
      "include_colab_link": true
    },
    "kernelspec": {
      "name": "python3",
      "display_name": "Python 3"
    },
    "language_info": {
      "name": "python"
    }
  },
  "cells": [
    {
      "cell_type": "markdown",
      "metadata": {
        "id": "view-in-github",
        "colab_type": "text"
      },
      "source": [
        "<a href=\"https://colab.research.google.com/github/cleytonlessa/econometria/blob/main/Nasdaq_DataLink.ipynb\" target=\"_parent\"><img src=\"https://colab.research.google.com/assets/colab-badge.svg\" alt=\"Open In Colab\"/></a>"
      ]
    },
    {
      "cell_type": "code",
      "execution_count": null,
      "metadata": {
        "id": "EqKZ0jby37l4"
      },
      "outputs": [],
      "source": [
        "pip install nasdaq-data-link"
      ]
    },
    {
      "cell_type": "code",
      "source": [
        "pip install plotly"
      ],
      "metadata": {
        "id": "PWhLdxGW4WYY"
      },
      "execution_count": null,
      "outputs": []
    },
    {
      "cell_type": "code",
      "source": [
        "import nasdaqdatalink\n",
        "import plotly.graph_objects as go\n",
        "from plotly.subplots import make_subplots"
      ],
      "metadata": {
        "id": "GGG8wnoW4cp-"
      },
      "execution_count": null,
      "outputs": []
    },
    {
      "cell_type": "markdown",
      "source": [
        "Configurar a Chave"
      ],
      "metadata": {
        "id": "5oU5XQzU49JI"
      }
    },
    {
      "cell_type": "code",
      "source": [
        "nasdaqdatalink.ApiConfig.api_key = \"6f3F_jVqcxn5cQa9jEVE\""
      ],
      "metadata": {
        "id": "40OBqhHG4_Jb"
      },
      "execution_count": null,
      "outputs": []
    },
    {
      "cell_type": "markdown",
      "source": [
        "**Requisições Brasil** - https://data.nasdaq.com/data/BCB-central-bank-of-brazil-statistical-database\n",
        "\n",
        "Códigos das Séries Históricas - https://www3.bcb.gov.br/sgspub/localizarseries/localizarSeries.do?method=prepararTelaLocalizarSeries"
      ],
      "metadata": {
        "id": "uyzY6LHv5Pcq"
      }
    },
    {
      "cell_type": "code",
      "source": [
        "selic = nasdaqdatalink.get('BCB/432')\n",
        "selic"
      ],
      "metadata": {
        "id": "8jUnhfoD5Q2v"
      },
      "execution_count": null,
      "outputs": []
    },
    {
      "cell_type": "markdown",
      "source": [
        "Analisando a série"
      ],
      "metadata": {
        "id": "-TCMk7Wz5oYH"
      }
    },
    {
      "cell_type": "code",
      "source": [
        "type(selic)"
      ],
      "metadata": {
        "id": "_AY3htrK5uNz"
      },
      "execution_count": null,
      "outputs": []
    },
    {
      "cell_type": "code",
      "source": [
        "#Restrição de período\n",
        "\n",
        "selic_2022 = nasdaqdatalink.get('BCB/432', start_date=\"2002-01-01\", end_date=\"2022-08-26\")\n",
        "selic_2022"
      ],
      "metadata": {
        "id": "vNVUta1N5zN6"
      },
      "execution_count": null,
      "outputs": []
    },
    {
      "cell_type": "code",
      "source": [
        "#Plotar\n",
        "\n",
        "fig = go.Figure()\n",
        "fig.add_trace(go.Scatter(name='SELIC 2022', x=selic_2022.index, y=selic_2022.Value))\n",
        "fig.show()"
      ],
      "metadata": {
        "id": "02awXcZ55zT7"
      },
      "execution_count": null,
      "outputs": []
    },
    {
      "cell_type": "markdown",
      "source": [
        "IPCA"
      ],
      "metadata": {
        "id": "w8zUpH_z6yYD"
      }
    },
    {
      "cell_type": "code",
      "source": [
        "ipca = nasdaqdatalink.get('BCB/13522', returns='numpy')\n",
        "ipca"
      ],
      "metadata": {
        "id": "ifhR9bp76xfv"
      },
      "execution_count": null,
      "outputs": []
    },
    {
      "cell_type": "code",
      "source": [
        "type(ipca)"
      ],
      "metadata": {
        "id": "-L1SmoyN7Fd0"
      },
      "execution_count": null,
      "outputs": []
    },
    {
      "cell_type": "markdown",
      "source": [
        "S&P500 - https://data.nasdaq.com/data/MULTPL-sp-500-ratios"
      ],
      "metadata": {
        "id": "ij82qa-p7O7R"
      }
    },
    {
      "cell_type": "code",
      "source": [
        "sp500_pe_month = nasdaqdatalink.get('MULTPL/SP500_PE_RATIO_MONTH')\n",
        "sp500_pe_month"
      ],
      "metadata": {
        "id": "MxiN2b0P7R43"
      },
      "execution_count": null,
      "outputs": []
    },
    {
      "cell_type": "code",
      "source": [
        "#Plotar\n",
        "\n",
        "fig = go.Figure()\n",
        "fig.add_trace(go.Scatter(name='S&P 500', x=sp500_pe_month.index, y=sp500_pe_month.Value))\n",
        "fig.update_layout(title_text='S&P 500 PL Mensal', template='simple_white')\n",
        "fig.show()"
      ],
      "metadata": {
        "id": "oDHwPTmC8FmI"
      },
      "execution_count": null,
      "outputs": []
    },
    {
      "cell_type": "markdown",
      "source": [
        "BITCOIN - https://data.nasdaq.com/data/BCHAIN-blockchain"
      ],
      "metadata": {
        "id": "OUtDFNW-9B9A"
      }
    },
    {
      "cell_type": "code",
      "source": [
        "bitcoin = nasdaqdatalink.get('BCHAIN/MKPRU')\n",
        "bitcoin"
      ],
      "metadata": {
        "id": "Pnsg5tjK9EGW"
      },
      "execution_count": null,
      "outputs": []
    },
    {
      "cell_type": "code",
      "source": [
        "bitcoin_mes = nasdaqdatalink.get('BCHAIN/MKPRU', collapse='monthly')\n",
        "bitcoin_mes"
      ],
      "metadata": {
        "id": "dLMM_x7O9vN3"
      },
      "execution_count": null,
      "outputs": []
    },
    {
      "cell_type": "markdown",
      "source": [
        "INFLAÇÃO - https://data.nasdaq.com/data/RATEINF-inflation-rates"
      ],
      "metadata": {
        "id": "ibouIiUn-bdO"
      }
    },
    {
      "cell_type": "code",
      "source": [
        "ipca = nasdaqdatalink.get('BCB/13522', start_date='2002-01-01', end_date='2022-08-25')\n",
        "ipca"
      ],
      "metadata": {
        "id": "zWxz6t7y-i8r"
      },
      "execution_count": null,
      "outputs": []
    },
    {
      "cell_type": "code",
      "source": [
        "selic = nasdaqdatalink.get('BCB/432', start_date='2002-01-01', end_date='2022-08-25')\n",
        "#selic = nasdaqdatalink.get('BCB/432', start_date='2018-01-01', end_date='2022-08-25', collapse='monthly')\n",
        "selic"
      ],
      "metadata": {
        "id": "LwLJ7K9x-1mX"
      },
      "execution_count": null,
      "outputs": []
    },
    {
      "cell_type": "code",
      "source": [
        "#Gráfico comparativo - DUAS ESCALAS\n",
        "\n",
        "fig = make_subplots(rows=1, cols=1, specs=[[{'secondary_y': True}]])\n",
        "fig.add_trace(go.Scatter(name='SELIC', x=selic.index, y=selic.Value), row=1, col=1)\n",
        "fig.add_trace(go.Scatter(name='IPCA', x=ipca.index, y=ipca.Value), row=1, col=1, secondary_y=True)\n",
        "fig.update_layout(title_text='SELIC vs IPCA', template='simple_white')\n",
        "fig.show()"
      ],
      "metadata": {
        "id": "HBROaWxC-9Up"
      },
      "execution_count": null,
      "outputs": []
    },
    {
      "cell_type": "code",
      "source": [
        "#Gráfico comparativo - MESMA ESCALA\n",
        "\n",
        "fig = go.Figure()\n",
        "fig.add_trace(go.Scatter(name='SELIC', x=selic.index, y=selic.Value))\n",
        "fig.add_trace(go.Scatter(name='IPCA', x=ipca.index, y=ipca.Value))\n",
        "fig.update_layout(title_text='SELIC vs IPCA', template='simple_white')\n",
        "fig.show()"
      ],
      "metadata": {
        "id": "dzGrKfCSAjl2"
      },
      "execution_count": null,
      "outputs": []
    }
  ]
}